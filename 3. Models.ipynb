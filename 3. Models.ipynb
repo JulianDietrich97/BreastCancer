{
 "cells": [
  {
   "cell_type": "markdown",
   "metadata": {},
   "source": [
    "# Classification models training and evaluation\n"
   ]
  },
  {
   "cell_type": "markdown",
   "metadata": {},
   "source": [
    "# Importing libraries"
   ]
  },
  {
   "cell_type": "code",
   "execution_count": 1,
   "metadata": {},
   "outputs": [],
   "source": [
    "import os \n",
    "import pandas as pd\n",
    "import numpy as np\n",
    "import matplotlib.pyplot as plt\n",
    "import seaborn as sns\n",
    "from sklearn.model_selection import train_test_split\n",
    "from sklearn.ensemble import RandomForestClassifier\n",
    "from sklearn import metrics\n",
    "from sklearn.metrics import confusion_matrix\n",
    "from sklearn.model_selection import cross_val_score\n",
    "from sklearn.metrics import accuracy_score, precision_score, recall_score, f1_score\n",
    "from sklearn.model_selection import GridSearchCV\n",
    "from sklearn.model_selection import RandomizedSearchCV\n",
    "from sklearn.svm import SVC\n",
    "from sklearn.preprocessing import StandardScaler\n",
    "from sklearn import preprocessing\n",
    "import warnings\n",
    "from sklearn.model_selection import StratifiedKFold\n",
    "from sklearn.metrics import f1_score\n",
    "\n",
    "warnings.filterwarnings(\"ignore\")\n",
    "\n"
   ]
  },
  {
   "cell_type": "code",
   "execution_count": 2,
   "metadata": {},
   "outputs": [],
   "source": [
    "#Upload the data \n",
    "df = pd.read_csv(\"data.csv\")\n",
    "\n",
    "#Eliminate \" Unnamed: 32\" & \"id\"\n",
    "df= df.drop(\"Unnamed: 32\",axis=1)\n",
    "df= df.drop(\"id\", axis=1)\n",
    "df= df.replace({\"M\":1, \"B\":0})\n",
    "\n",
    "#Drop less important features\n",
    "drop_col = [\"fractal_dimension_se\", \"smoothness_se\", \"fractal_dimension_mean\", \"texture_se\", \"symmetry_se\"]\n",
    "\n",
    "df=df.drop(drop_col, axis=1)"
   ]
  },
  {
   "cell_type": "markdown",
   "metadata": {},
   "source": [
    "# Removing features\n",
    "\n",
    "In this model it will be eliminated the 10 less important features."
   ]
  },
  {
   "cell_type": "code",
   "execution_count": 3,
   "metadata": {},
   "outputs": [
    {
     "data": {
      "text/html": [
       "<div>\n",
       "<style scoped>\n",
       "    .dataframe tbody tr th:only-of-type {\n",
       "        vertical-align: middle;\n",
       "    }\n",
       "\n",
       "    .dataframe tbody tr th {\n",
       "        vertical-align: top;\n",
       "    }\n",
       "\n",
       "    .dataframe thead th {\n",
       "        text-align: right;\n",
       "    }\n",
       "</style>\n",
       "<table border=\"1\" class=\"dataframe\">\n",
       "  <thead>\n",
       "    <tr style=\"text-align: right;\">\n",
       "      <th></th>\n",
       "      <th>diagnosis</th>\n",
       "      <th>radius_mean</th>\n",
       "      <th>texture_mean</th>\n",
       "      <th>perimeter_mean</th>\n",
       "      <th>area_mean</th>\n",
       "      <th>concavity_mean</th>\n",
       "      <th>concave points_mean</th>\n",
       "      <th>radius_worst</th>\n",
       "      <th>texture_worst</th>\n",
       "      <th>perimeter_worst</th>\n",
       "      <th>area_worst</th>\n",
       "      <th>smoothness_worst</th>\n",
       "      <th>compactness_worst</th>\n",
       "      <th>concavity_worst</th>\n",
       "      <th>concave points_worst</th>\n",
       "      <th>symmetry_worst</th>\n",
       "    </tr>\n",
       "  </thead>\n",
       "  <tbody>\n",
       "    <tr>\n",
       "      <th>0</th>\n",
       "      <td>1</td>\n",
       "      <td>17.99</td>\n",
       "      <td>10.38</td>\n",
       "      <td>122.80</td>\n",
       "      <td>1001.0</td>\n",
       "      <td>0.30010</td>\n",
       "      <td>0.14710</td>\n",
       "      <td>25.380</td>\n",
       "      <td>17.33</td>\n",
       "      <td>184.60</td>\n",
       "      <td>2019.0</td>\n",
       "      <td>0.16220</td>\n",
       "      <td>0.66560</td>\n",
       "      <td>0.7119</td>\n",
       "      <td>0.2654</td>\n",
       "      <td>0.4601</td>\n",
       "    </tr>\n",
       "    <tr>\n",
       "      <th>1</th>\n",
       "      <td>1</td>\n",
       "      <td>20.57</td>\n",
       "      <td>17.77</td>\n",
       "      <td>132.90</td>\n",
       "      <td>1326.0</td>\n",
       "      <td>0.08690</td>\n",
       "      <td>0.07017</td>\n",
       "      <td>24.990</td>\n",
       "      <td>23.41</td>\n",
       "      <td>158.80</td>\n",
       "      <td>1956.0</td>\n",
       "      <td>0.12380</td>\n",
       "      <td>0.18660</td>\n",
       "      <td>0.2416</td>\n",
       "      <td>0.1860</td>\n",
       "      <td>0.2750</td>\n",
       "    </tr>\n",
       "    <tr>\n",
       "      <th>2</th>\n",
       "      <td>1</td>\n",
       "      <td>19.69</td>\n",
       "      <td>21.25</td>\n",
       "      <td>130.00</td>\n",
       "      <td>1203.0</td>\n",
       "      <td>0.19740</td>\n",
       "      <td>0.12790</td>\n",
       "      <td>23.570</td>\n",
       "      <td>25.53</td>\n",
       "      <td>152.50</td>\n",
       "      <td>1709.0</td>\n",
       "      <td>0.14440</td>\n",
       "      <td>0.42450</td>\n",
       "      <td>0.4504</td>\n",
       "      <td>0.2430</td>\n",
       "      <td>0.3613</td>\n",
       "    </tr>\n",
       "    <tr>\n",
       "      <th>3</th>\n",
       "      <td>1</td>\n",
       "      <td>11.42</td>\n",
       "      <td>20.38</td>\n",
       "      <td>77.58</td>\n",
       "      <td>386.1</td>\n",
       "      <td>0.24140</td>\n",
       "      <td>0.10520</td>\n",
       "      <td>14.910</td>\n",
       "      <td>26.50</td>\n",
       "      <td>98.87</td>\n",
       "      <td>567.7</td>\n",
       "      <td>0.20980</td>\n",
       "      <td>0.86630</td>\n",
       "      <td>0.6869</td>\n",
       "      <td>0.2575</td>\n",
       "      <td>0.6638</td>\n",
       "    </tr>\n",
       "    <tr>\n",
       "      <th>4</th>\n",
       "      <td>1</td>\n",
       "      <td>20.29</td>\n",
       "      <td>14.34</td>\n",
       "      <td>135.10</td>\n",
       "      <td>1297.0</td>\n",
       "      <td>0.19800</td>\n",
       "      <td>0.10430</td>\n",
       "      <td>22.540</td>\n",
       "      <td>16.67</td>\n",
       "      <td>152.20</td>\n",
       "      <td>1575.0</td>\n",
       "      <td>0.13740</td>\n",
       "      <td>0.20500</td>\n",
       "      <td>0.4000</td>\n",
       "      <td>0.1625</td>\n",
       "      <td>0.2364</td>\n",
       "    </tr>\n",
       "    <tr>\n",
       "      <th>...</th>\n",
       "      <td>...</td>\n",
       "      <td>...</td>\n",
       "      <td>...</td>\n",
       "      <td>...</td>\n",
       "      <td>...</td>\n",
       "      <td>...</td>\n",
       "      <td>...</td>\n",
       "      <td>...</td>\n",
       "      <td>...</td>\n",
       "      <td>...</td>\n",
       "      <td>...</td>\n",
       "      <td>...</td>\n",
       "      <td>...</td>\n",
       "      <td>...</td>\n",
       "      <td>...</td>\n",
       "      <td>...</td>\n",
       "    </tr>\n",
       "    <tr>\n",
       "      <th>564</th>\n",
       "      <td>1</td>\n",
       "      <td>21.56</td>\n",
       "      <td>22.39</td>\n",
       "      <td>142.00</td>\n",
       "      <td>1479.0</td>\n",
       "      <td>0.24390</td>\n",
       "      <td>0.13890</td>\n",
       "      <td>25.450</td>\n",
       "      <td>26.40</td>\n",
       "      <td>166.10</td>\n",
       "      <td>2027.0</td>\n",
       "      <td>0.14100</td>\n",
       "      <td>0.21130</td>\n",
       "      <td>0.4107</td>\n",
       "      <td>0.2216</td>\n",
       "      <td>0.2060</td>\n",
       "    </tr>\n",
       "    <tr>\n",
       "      <th>565</th>\n",
       "      <td>1</td>\n",
       "      <td>20.13</td>\n",
       "      <td>28.25</td>\n",
       "      <td>131.20</td>\n",
       "      <td>1261.0</td>\n",
       "      <td>0.14400</td>\n",
       "      <td>0.09791</td>\n",
       "      <td>23.690</td>\n",
       "      <td>38.25</td>\n",
       "      <td>155.00</td>\n",
       "      <td>1731.0</td>\n",
       "      <td>0.11660</td>\n",
       "      <td>0.19220</td>\n",
       "      <td>0.3215</td>\n",
       "      <td>0.1628</td>\n",
       "      <td>0.2572</td>\n",
       "    </tr>\n",
       "    <tr>\n",
       "      <th>566</th>\n",
       "      <td>1</td>\n",
       "      <td>16.60</td>\n",
       "      <td>28.08</td>\n",
       "      <td>108.30</td>\n",
       "      <td>858.1</td>\n",
       "      <td>0.09251</td>\n",
       "      <td>0.05302</td>\n",
       "      <td>18.980</td>\n",
       "      <td>34.12</td>\n",
       "      <td>126.70</td>\n",
       "      <td>1124.0</td>\n",
       "      <td>0.11390</td>\n",
       "      <td>0.30940</td>\n",
       "      <td>0.3403</td>\n",
       "      <td>0.1418</td>\n",
       "      <td>0.2218</td>\n",
       "    </tr>\n",
       "    <tr>\n",
       "      <th>567</th>\n",
       "      <td>1</td>\n",
       "      <td>20.60</td>\n",
       "      <td>29.33</td>\n",
       "      <td>140.10</td>\n",
       "      <td>1265.0</td>\n",
       "      <td>0.35140</td>\n",
       "      <td>0.15200</td>\n",
       "      <td>25.740</td>\n",
       "      <td>39.42</td>\n",
       "      <td>184.60</td>\n",
       "      <td>1821.0</td>\n",
       "      <td>0.16500</td>\n",
       "      <td>0.86810</td>\n",
       "      <td>0.9387</td>\n",
       "      <td>0.2650</td>\n",
       "      <td>0.4087</td>\n",
       "    </tr>\n",
       "    <tr>\n",
       "      <th>568</th>\n",
       "      <td>0</td>\n",
       "      <td>7.76</td>\n",
       "      <td>24.54</td>\n",
       "      <td>47.92</td>\n",
       "      <td>181.0</td>\n",
       "      <td>0.00000</td>\n",
       "      <td>0.00000</td>\n",
       "      <td>9.456</td>\n",
       "      <td>30.37</td>\n",
       "      <td>59.16</td>\n",
       "      <td>268.6</td>\n",
       "      <td>0.08996</td>\n",
       "      <td>0.06444</td>\n",
       "      <td>0.0000</td>\n",
       "      <td>0.0000</td>\n",
       "      <td>0.2871</td>\n",
       "    </tr>\n",
       "  </tbody>\n",
       "</table>\n",
       "<p>569 rows × 16 columns</p>\n",
       "</div>"
      ],
      "text/plain": [
       "     diagnosis  radius_mean  texture_mean  perimeter_mean  area_mean  \\\n",
       "0            1        17.99         10.38          122.80     1001.0   \n",
       "1            1        20.57         17.77          132.90     1326.0   \n",
       "2            1        19.69         21.25          130.00     1203.0   \n",
       "3            1        11.42         20.38           77.58      386.1   \n",
       "4            1        20.29         14.34          135.10     1297.0   \n",
       "..         ...          ...           ...             ...        ...   \n",
       "564          1        21.56         22.39          142.00     1479.0   \n",
       "565          1        20.13         28.25          131.20     1261.0   \n",
       "566          1        16.60         28.08          108.30      858.1   \n",
       "567          1        20.60         29.33          140.10     1265.0   \n",
       "568          0         7.76         24.54           47.92      181.0   \n",
       "\n",
       "     concavity_mean  concave points_mean  radius_worst  texture_worst  \\\n",
       "0           0.30010              0.14710        25.380          17.33   \n",
       "1           0.08690              0.07017        24.990          23.41   \n",
       "2           0.19740              0.12790        23.570          25.53   \n",
       "3           0.24140              0.10520        14.910          26.50   \n",
       "4           0.19800              0.10430        22.540          16.67   \n",
       "..              ...                  ...           ...            ...   \n",
       "564         0.24390              0.13890        25.450          26.40   \n",
       "565         0.14400              0.09791        23.690          38.25   \n",
       "566         0.09251              0.05302        18.980          34.12   \n",
       "567         0.35140              0.15200        25.740          39.42   \n",
       "568         0.00000              0.00000         9.456          30.37   \n",
       "\n",
       "     perimeter_worst  area_worst  smoothness_worst  compactness_worst  \\\n",
       "0             184.60      2019.0           0.16220            0.66560   \n",
       "1             158.80      1956.0           0.12380            0.18660   \n",
       "2             152.50      1709.0           0.14440            0.42450   \n",
       "3              98.87       567.7           0.20980            0.86630   \n",
       "4             152.20      1575.0           0.13740            0.20500   \n",
       "..               ...         ...               ...                ...   \n",
       "564           166.10      2027.0           0.14100            0.21130   \n",
       "565           155.00      1731.0           0.11660            0.19220   \n",
       "566           126.70      1124.0           0.11390            0.30940   \n",
       "567           184.60      1821.0           0.16500            0.86810   \n",
       "568            59.16       268.6           0.08996            0.06444   \n",
       "\n",
       "     concavity_worst  concave points_worst  symmetry_worst  \n",
       "0             0.7119                0.2654          0.4601  \n",
       "1             0.2416                0.1860          0.2750  \n",
       "2             0.4504                0.2430          0.3613  \n",
       "3             0.6869                0.2575          0.6638  \n",
       "4             0.4000                0.1625          0.2364  \n",
       "..               ...                   ...             ...  \n",
       "564           0.4107                0.2216          0.2060  \n",
       "565           0.3215                0.1628          0.2572  \n",
       "566           0.3403                0.1418          0.2218  \n",
       "567           0.9387                0.2650          0.4087  \n",
       "568           0.0000                0.0000          0.2871  \n",
       "\n",
       "[569 rows x 16 columns]"
      ]
     },
     "execution_count": 3,
     "metadata": {},
     "output_type": "execute_result"
    }
   ],
   "source": [
    "to_drop = ['fractal_dimension_worst',\n",
    "            'concavity_se',\n",
    "            'perimeter_se',\n",
    "            'area_se',\n",
    "            'smoothness_mean',\n",
    "            'compactness_se',\n",
    "            'concave points_se',\n",
    "            'symmetry_mean',\n",
    "            'radius_se',\n",
    "            'compactness_mean'] \n",
    "\n",
    "new_df = df.drop(to_drop, axis=1)\n",
    "new_df"
   ]
  },
  {
   "cell_type": "code",
   "execution_count": 4,
   "metadata": {},
   "outputs": [],
   "source": [
    "#Creating my predictive variable (X) and my target variable (Y)\n",
    "\n",
    "#y = Target Variable\n",
    "y = df.iloc[:,0]\n",
    "\n",
    "#X= Predictors\n",
    "X= new_df.iloc[:,1:]\n"
   ]
  },
  {
   "cell_type": "markdown",
   "metadata": {},
   "source": [
    "## Train-test split\n",
    "\n",
    "Rather than using the default train_test_split provided by scikit-learn, we should try to make sure our splits accurately represent the distribution of our target variable. A very simple way to do this is to use the stratify parameter when calling the train_test_split function.\n",
    "\n",
    "Making this small change ensures that the train and test sets follow the same distribution as our original dataset."
   ]
  },
  {
   "cell_type": "code",
   "execution_count": 5,
   "metadata": {},
   "outputs": [
    {
     "data": {
      "image/png": "[encoded data removed]",
      "text/plain": [
       "<Figure size 720x360 with 2 Axes>"
      ]
     },
     "metadata": {
      "needs_background": "light"
     },
     "output_type": "display_data"
    }
   ],
   "source": [
    "# Call train_test_split with the `stratify` parameter\n",
    "X_train, X_test, y_train, y_test = train_test_split(X, y, random_state=42, \n",
    "                                                    stratify=y)\n",
    "\n",
    "# Get the value counts of our train and test sets\n",
    "y_train_vals = y_train.value_counts()\n",
    "y_test_vals = y_test.value_counts()\n",
    "\n",
    "# Plot the distributions to check if they match the original\n",
    "fig, (ax1, ax2) = plt.subplots(1, 2, figsize=(10, 5), sharey=True)\n",
    "ax1.bar(y_train_vals.index.astype(str), y_train_vals.values/sum(y_train_vals.values))\n",
    "ax2.bar(y_test_vals.index.astype(str), y_test_vals.values/sum(y_test_vals.values))\n",
    "plt.suptitle(\"Class Distributions\")\n",
    "ax1.set_title(\"Train Set\")\n",
    "ax1.set_xlabel(\"Class\")\n",
    "ax1.set_ylabel(\"Percentage\")\n",
    "ax2.set_title(\"Test Set\")\n",
    "ax2.set_xlabel(\"Class\")\n",
    "plt.show()"
   ]
  },
  {
   "cell_type": "markdown",
   "metadata": {},
   "source": [
    "## Theory: RandomizedSearchCV vs GridSearchCV\n",
    "\n",
    "### GridSearchCV:\n",
    "\n",
    "-*Exhaustive Search:* Grid search performs an exhaustive search over a predefined hyperparameter grid. You specify the values or ranges for each hyperparameter you want to tune, and it tries every possible combination. This guarantees that you'll explore the entire search space.\n",
    "\n",
    "-*Complete Search:* Grid search is suitable when you have a relatively small hyperparameter space and want to ensure that no combination is overlooked. If you have a good idea of where the optimal hyperparameters might lie, grid search can be effective.\n",
    "\n",
    "-*Deterministic Results:* Since grid search tries all combinations, it will always give you the same result if you run it multiple times with the same hyperparameter grid and data.\n",
    "\n",
    "### RandomizedSearchCV:\n",
    "\n",
    "-*Random Sampling:* Randomized search, on the other hand, randomly samples hyperparameter combinations from predefined ranges or distributions. It doesn't try every possible combination but rather focuses on a random subset of the search space. This can be more efficient, especially when the hyperparameter space is large.\n",
    "\n",
    "-*Resource Efficiency:* Randomized search is well-suited for situations where you have limited computational resources. Since it doesn't exhaustively explore all combinations, it can often find good hyperparameters more quickly.\n",
    "\n",
    "-*Stochastic Nature:* Randomized search is inherently stochastic due to its random sampling approach. It may not always find the absolute best hyperparameters, but it can discover good ones and is less prone to getting stuck in local optima."
   ]
  },
  {
   "cell_type": "markdown",
   "metadata": {},
   "source": [
    "# 1 - Random Forest Classifier\n",
    "\n",
    "A random forest is a meta estimator that fits a number of decision tree classifiers on various sub-samples of the dataset and uses averaging to improve the predictive accuracy and control over-fitting."
   ]
  },
  {
   "cell_type": "markdown",
   "metadata": {},
   "source": [
    "## 1.1 Randomised Search CV\n",
    "\n",
    "We can use scikit learn and RandomisedSearchCV where we can define the grid, the random forest model will be fitted over and over by randomly selecting parameters from the grid. "
   ]
  },
  {
   "cell_type": "code",
   "execution_count": 6,
   "metadata": {},
   "outputs": [
    {
     "name": "stdout",
     "output_type": "stream",
     "text": [
      "{'n_estimators': [200, 400, 600, 800, 1000, 1200, 1400, 1600, 1800, 2000], 'max_features': ['auto', 'sqrt'], 'max_depth': [10, 20, 30, 40, 50, 60, 70, 80, 90, 100, 110, None], 'min_samples_split': [2, 5, 10], 'min_samples_leaf': [1, 2, 4], 'bootstrap': [True, False]}\n"
     ]
    },
    {
     "data": {
      "text/plain": [
       "{'bootstrap': [True, False],\n",
       " 'max_depth': [10, 20, 30, 40, 50, 60, 70, 80, 90, 100, None],\n",
       " 'max_features': ['auto', 'sqrt'],\n",
       " 'min_samples_leaf': [1, 2, 4],\n",
       " 'min_samples_split': [2, 5, 10],\n",
       " 'n_estimators': [200, 400, 600, 800, 1000, 1200, 1400, 1600, 1800, 2000]}"
      ]
     },
     "execution_count": 6,
     "metadata": {},
     "output_type": "execute_result"
    }
   ],
   "source": [
    "\n",
    "# Number of trees in random forest\n",
    "n_estimators = [int(x) for x in np.linspace(start = 200, stop = 2000, num = 10)]\n",
    "# Number of features to consider at every split\n",
    "max_features = ['auto', 'sqrt']\n",
    "# Maximum number of levels in tree\n",
    "max_depth = [int(x) for x in np.linspace(10, 110, num = 11)]\n",
    "max_depth.append(None)\n",
    "# Minimum number of samples required to split a node\n",
    "min_samples_split = [2, 5, 10]\n",
    "# Minimum number of samples required at each leaf node\n",
    "min_samples_leaf = [1, 2, 4]\n",
    "# Method of selecting samples for training each tree\n",
    "bootstrap = [True, False]\n",
    "# Create the random grid\n",
    "random_grid = {'n_estimators': n_estimators,\n",
    "               'max_features': max_features,\n",
    "               'max_depth': max_depth,\n",
    "               'min_samples_split': min_samples_split,\n",
    "               'min_samples_leaf': min_samples_leaf,\n",
    "               'bootstrap': bootstrap}\n",
    "print(random_grid)\n",
    "{'bootstrap': [True, False],\n",
    " 'max_depth': [10, 20, 30, 40, 50, 60, 70, 80, 90, 100, None],\n",
    " 'max_features': ['auto', 'sqrt'],\n",
    " 'min_samples_leaf': [1, 2, 4],\n",
    " 'min_samples_split': [2, 5, 10],\n",
    " 'n_estimators': [200, 400, 600, 800, 1000, 1200, 1400, 1600, 1800, 2000]}"
   ]
  },
  {
   "cell_type": "code",
   "execution_count": 7,
   "metadata": {},
   "outputs": [
    {
     "name": "stdout",
     "output_type": "stream",
     "text": [
      "Fitting 5 folds for each of 50 candidates, totalling 250 fits\n"
     ]
    },
    {
     "data": {
      "text/plain": [
       "RandomizedSearchCV(cv=5, estimator=RandomForestClassifier(), n_iter=50,\n",
       "                   n_jobs=-1,\n",
       "                   param_distributions={'bootstrap': [True, False],\n",
       "                                        'max_depth': [10, 20, 30, 40, 50, 60,\n",
       "                                                      70, 80, 90, 100, 110,\n",
       "                                                      None],\n",
       "                                        'max_features': ['auto', 'sqrt'],\n",
       "                                        'min_samples_leaf': [1, 2, 4],\n",
       "                                        'min_samples_split': [2, 5, 10],\n",
       "                                        'n_estimators': [200, 400, 600, 800,\n",
       "                                                         1000, 1200, 1400, 1600,\n",
       "                                                         1800, 2000]},\n",
       "                   random_state=42, verbose=2)"
      ]
     },
     "execution_count": 7,
     "metadata": {},
     "output_type": "execute_result"
    }
   ],
   "source": [
    "# Use the random grid to search for best hyperparameters\n",
    "# First create the base model to tune\n",
    "rf = RandomForestClassifier()\n",
    "# Random search of parameters, using 5 fold cross validation, \n",
    "# search across 100 different combinations, and use all available cores\n",
    "rf_random = RandomizedSearchCV(estimator = rf, param_distributions = random_grid, n_iter = 50, cv = 5, verbose=2, random_state=42, n_jobs = -1)\n",
    "# Fit the random search model\n",
    "rf_random.fit(X, y)"
   ]
  },
  {
   "cell_type": "code",
   "execution_count": 8,
   "metadata": {},
   "outputs": [
    {
     "data": {
      "text/plain": [
       "{'n_estimators': 800,\n",
       " 'min_samples_split': 2,\n",
       " 'min_samples_leaf': 2,\n",
       " 'max_features': 'sqrt',\n",
       " 'max_depth': 50,\n",
       " 'bootstrap': False}"
      ]
     },
     "execution_count": 8,
     "metadata": {},
     "output_type": "execute_result"
    }
   ],
   "source": [
    "# The best parameters from fitting the random search\n",
    "rf_random.best_params_"
   ]
  },
  {
   "cell_type": "markdown",
   "metadata": {},
   "source": [
    "## 1.2 Training the model"
   ]
  },
  {
   "cell_type": "code",
   "execution_count": 28,
   "metadata": {},
   "outputs": [],
   "source": [
    "#Tuned model\n",
    "tuned_model = RandomForestClassifier(n_estimators= 800, \n",
    "                                min_samples_split= 2,\n",
    "                                min_samples_leaf= 2,\n",
    "                                max_features= 'sqrt',\n",
    "                                max_depth= 50,\n",
    "                                bootstrap= False,\n",
    "                                random_state=99)"
   ]
  },
  {
   "cell_type": "markdown",
   "metadata": {},
   "source": [
    "## 1.3 StratifiedKFold Cross-Validation"
   ]
  },
  {
   "cell_type": "markdown",
   "metadata": {},
   "source": [
    "The goal of the following code is to perform cross-validation, train the model on different subsets of the training data, and calculate the average F1 score to assess the model's overall performance.\n",
    "\n",
    "The *F1 Score* is a balance between precision and recall. It is given by the formula (2 * Precision * Recall) / (Precision + Recall). This metric proves to be suitable for imbalanced datasets, eliminating the shortcomings of the plain accuracy metric."
   ]
  },
  {
   "cell_type": "code",
   "execution_count": 10,
   "metadata": {},
   "outputs": [
    {
     "name": "stdout",
     "output_type": "stream",
     "text": [
      "Mean F1 Score: 0.952560454411327\n",
      "Standard Deviation of F1 Score: 0.02574231369292781\n"
     ]
    }
   ],
   "source": [
    "# Import StratifiedKFold, RandomForestClassifier, and f1_score\n",
    "from sklearn.model_selection import StratifiedKFold\n",
    "from sklearn.metrics import f1_score\n",
    "from sklearn.ensemble import RandomForestClassifier  # Import RandomForestClassifier\n",
    "\n",
    "# Initialize an empty list to store F1 scores from each fold\n",
    "f1_scores = []\n",
    "\n",
    "# Split the data using StratifiedKFold and get the average f1 score\n",
    "skf = StratifiedKFold()\n",
    "mean_f1 = 0\n",
    "for train_ix, test_ix in skf.split(X_train, y_train):\n",
    "    X_train_1, X_test_1 = X_train.iloc[train_ix], X_train.iloc[test_ix]\n",
    "    y_train_1, y_test_1 = y_train.iloc[train_ix], y_train.iloc[test_ix]\n",
    "\n",
    "    # Create and configure the RandomForestClassifier instance\n",
    "    rf_clf = tuned_model  # You can configure hyperparameters here\n",
    "    rf_clf.fit(X_train_1, y_train_1)\n",
    "    predictions = rf_clf.predict(X_test_1)\n",
    "    \n",
    "    # Calculate the F1 score for this fold and append it to the list\n",
    "    fold_f1 = f1_score(y_test_1, predictions)\n",
    "    f1_scores.append(fold_f1)\n",
    "    \n",
    "# Calculate the mean F1 score\n",
    "mean_f1 = np.mean(f1_scores)\n",
    "\n",
    "# Calculate the standard deviation of F1 scores\n",
    "std_f1 = np.std(f1_scores)\n",
    "\n",
    "print(f'Mean F1 Score: {mean_f1}')\n",
    "print(f'Standard Deviation of F1 Score: {std_f1}')\n"
   ]
  },
  {
   "cell_type": "markdown",
   "metadata": {},
   "source": [
    "The *mean F1 score* is an average value of the F1 scores obtained in each fold of your cross-validation. An F1 score is a measure of a model's accuracy that considers both precision and recall. In this case, the mean F1 score is approximately 0.952, which indicates that, on average, the model's precision and recall are quite high, suggesting that it's doing a good job of correctly classifying both positive and negative instances.\n",
    "\n",
    "The *standard deviation* measures the variability or spread of the F1 scores across the different folds. A low standard deviation suggests that the F1 scores are consistent across folds, indicating that your model's performance is stable. In this case, a standard deviation of approximately 0.025 is relatively small, suggesting that the model's performance is consistent and not highly variable across different subsets of your data.\n",
    "\n",
    "The cross-validated F1 scores are quite high and consistent, which is a positive sign for the performance of your model on the training data."
   ]
  },
  {
   "cell_type": "markdown",
   "metadata": {},
   "source": [
    "## 1.4 Final RF Model Evaluation"
   ]
  },
  {
   "cell_type": "code",
   "execution_count": 29,
   "metadata": {},
   "outputs": [
    {
     "name": "stdout",
     "output_type": "stream",
     "text": [
      "              precision    recall  f1-score   support\n",
      "\n",
      "           0       0.96      1.00      0.98        90\n",
      "           1       1.00      0.92      0.96        53\n",
      "\n",
      "    accuracy                           0.97       143\n",
      "   macro avg       0.98      0.96      0.97       143\n",
      "weighted avg       0.97      0.97      0.97       143\n",
      "\n"
     ]
    },
    {
     "data": {
      "image/png": "[encoded data removed]",
      "text/plain": [
       "<Figure size 432x288 with 2 Axes>"
      ]
     },
     "metadata": {
      "needs_background": "light"
     },
     "output_type": "display_data"
    }
   ],
   "source": [
    "tuned_model.fit(X_train, y_train)\n",
    "\n",
    "y_pred=tuned_model.predict(X_test)\n",
    "\n",
    "confusion_matrix_tuned = pd.crosstab(y_test, y_pred, rownames=['Real Values'], colnames=['Predicted'])\n",
    "sns.heatmap(confusion_matrix_tuned, annot=True)\n",
    "\n",
    "from sklearn.metrics import classification_report\n",
    "print(classification_report(y_test, y_pred))"
   ]
  },
  {
   "cell_type": "markdown",
   "metadata": {},
   "source": [
    "*Accuracy* = Simple measure of total error. The proportion of predictions that are correct. In this case 0.97.\n",
    "\n",
    "*Sensitivity (recall)* = measures the strength of the model to predict a positive outcome - the proportion of the 1s that it correctly identifies. \n",
    "\n",
    "Overall, the results indicate that your model has performed well on this classification task. It has high precision and recall for both classes, resulting in high F1-scores. The accuracy is also high at 97%, suggesting that your model is making accurate predictions."
   ]
  },
  {
   "cell_type": "code",
   "execution_count": 31,
   "metadata": {},
   "outputs": [
    {
     "name": "stdout",
     "output_type": "stream",
     "text": [
      "Accuracy: 0.972027972027972\n",
      "Precision: 1.0\n",
      "Sensitivity (Recall): 0.9245283018867925\n",
      "F1 Score: 0.9607843137254902\n"
     ]
    }
   ],
   "source": [
    "# Metrics:\n",
    "\n",
    "accuracy = accuracy_score(y_test, y_pred)\n",
    "print(f'Accuracy: {accuracy}')\n",
    "\n",
    "precision = precision_score(y_test, y_pred)\n",
    "print(f'Precision: {precision}')\n",
    "\n",
    "recall = recall_score(y_test, y_pred)\n",
    "print(f'Sensitivity (Recall): {recall}')\n",
    "\n",
    "f1 = f1_score(y_test, y_pred)\n",
    "print(f'F1 Score: {f1}')"
   ]
  },
  {
   "cell_type": "markdown",
   "metadata": {},
   "source": [
    "These metrics indicate that the classification model exhibits outstanding performance in the task it is performing. \n",
    "\n",
    "Both precision and recall are exceptionally high, suggesting that the model is capable of correctly classifying the majority of positive instances while maintaining a low number of false positives. \n",
    "\n",
    "Accuracy is also high, signifying that the model correctly classifies the majority of instances overall. The F1 score, a measure that combines precision and recall, is also high in this case."
   ]
  },
  {
   "cell_type": "code",
   "execution_count": 13,
   "metadata": {},
   "outputs": [
    {
     "name": "stdout",
     "output_type": "stream",
     "text": [
      "AUC=0.9622641509433962\n"
     ]
    },
    {
     "data": {
      "image/png": "[encoded data removed]",
      "text/plain": [
       "<Figure size 432x432 with 1 Axes>"
      ]
     },
     "metadata": {
      "needs_background": "light"
     },
     "output_type": "display_data"
    }
   ],
   "source": [
    "#ROC curve \n",
    "\n",
    "from sklearn import metrics\n",
    "\n",
    "fpr, tpr, thresholds = metrics.roc_curve(np.array(y_test), y_pred)\n",
    "\n",
    "roc_df =pd.DataFrame({'recall':tpr,  'specificity': 1 - fpr})\n",
    "auc = metrics.roc_auc_score(np.array(y_test), y_pred)\n",
    "\n",
    "ax = roc_df.plot(x='specificity', y='recall', figsize =(6,6), legend = False)\n",
    "ax.set_ylim(0,1)\n",
    "ax.set_xlim(1,0)\n",
    "ax.plot((1,0),(0,1))\n",
    "ax.set_xlabel('Specificity')\n",
    "ax.set_ylabel('Recall')\n",
    "\n",
    "\n",
    "print(\"AUC=\"+str(auc))"
   ]
  },
  {
   "cell_type": "markdown",
   "metadata": {},
   "source": [
    "*AUC:* indicates excellent performance for your classification model. \n",
    "\n",
    "The AUC measures the ability of the model to distinguish between positive and negative cases, with a value of 1.0 representing perfect discrimination and 0.5 representing random guessing. \n",
    "\n",
    "An AUC value close to 1 suggests that your model is doing an outstanding job in separating the classes, making it highly effective for its intended purpose."
   ]
  },
  {
   "cell_type": "markdown",
   "metadata": {},
   "source": [
    "# 2- SVM Classifier\n",
    "\n",
    "The objective of the support vector machine algorithm is to find a hyperplane in an N-dimensional space(N — the number of features) that distinctly classifies the data points. In this case, classify de data points as BENINGN or MALIGNOUS.\n",
    "\n",
    "As it can be observed in most of the graphs in *1_ExploratoryAnalysis* the data can be separable with a linear hiperplane. So we postulate the following hypothesis:\n",
    "\n",
    "*Ho:* The data is linearrly separable"
   ]
  },
  {
   "cell_type": "markdown",
   "metadata": {},
   "source": [
    "## 2.1 Scaling the data"
   ]
  },
  {
   "cell_type": "code",
   "execution_count": 15,
   "metadata": {},
   "outputs": [],
   "source": [
    "#Scale the data\n",
    "\n",
    "# Initialize the StandardScaler\n",
    "scaler = StandardScaler()\n",
    "\n",
    "# Fit the scaler on the training data and transform both training and test data\n",
    "X_train_scaled = scaler.fit_transform(X_train)\n",
    "X_test_scaled = scaler.transform(X_test)"
   ]
  },
  {
   "cell_type": "markdown",
   "metadata": {},
   "source": [
    "## 2.2 Randomised Search CV"
   ]
  },
  {
   "cell_type": "code",
   "execution_count": 19,
   "metadata": {},
   "outputs": [],
   "source": [
    "grid = {\n",
    "    'C':[0.01,0.1,1,10],\n",
    "    'kernel' : [\"linear\",\"poly\",\"sigmoid\"],\n",
    "    'degree' : [1,3,5,7],\n",
    "    'class_weight': ['balanced'],\n",
    "    'gamma' : [0.01,1] }"
   ]
  },
  {
   "cell_type": "code",
   "execution_count": 20,
   "metadata": {},
   "outputs": [
    {
     "data": {
      "text/plain": [
       "RandomizedSearchCV(cv=StratifiedKFold(n_splits=5, random_state=42, shuffle=True),\n",
       "                   estimator=SVC(), n_iter=100,\n",
       "                   param_distributions={'C': [0.01, 0.1, 1, 10],\n",
       "                                        'class_weight': ['balanced'],\n",
       "                                        'degree': [1, 3, 5, 7],\n",
       "                                        'gamma': [0.01, 1],\n",
       "                                        'kernel': ['linear', 'poly',\n",
       "                                                   'sigmoid']},\n",
       "                   scoring=make_scorer(f1_score))"
      ]
     },
     "execution_count": 20,
     "metadata": {},
     "output_type": "execute_result"
    }
   ],
   "source": [
    "from sklearn.svm import SVC\n",
    "from sklearn.model_selection import RandomizedSearchCV, StratifiedKFold\n",
    "from sklearn.metrics import make_scorer, f1_score\n",
    "\n",
    "# First create the base model to tune\n",
    "svm  = SVC ()\n",
    "\n",
    "# Create a scorer for F1 score\n",
    "f1_scorer = make_scorer(f1_score)\n",
    "\n",
    "# Create a StratifiedKFold cross-validation strategy\n",
    "stratified_cv = StratifiedKFold(n_splits=5, shuffle=True, random_state=42)\n",
    "\n",
    "# Create a RandomizedSearchCV object with stratified cross-validation\n",
    "svm_cv = RandomizedSearchCV(svm, grid, n_iter=100, cv=stratified_cv, scoring=f1_scorer)\n",
    "\n",
    "# Fit the RandomizedSearchCV object to the training data\n",
    "svm_cv.fit(X_train_scaled, y_train)\n",
    "\n"
   ]
  },
  {
   "cell_type": "code",
   "execution_count": 21,
   "metadata": {},
   "outputs": [
    {
     "name": "stdout",
     "output_type": "stream",
     "text": [
      "Best Parameters: {'kernel': 'linear', 'gamma': 0.01, 'degree': 1, 'class_weight': 'balanced', 'C': 0.1}\n"
     ]
    }
   ],
   "source": [
    "# Print the best parameters found by RandomizedSearchCV\n",
    "print(\"Best Parameters:\", svm_cv.best_params_)"
   ]
  },
  {
   "cell_type": "markdown",
   "metadata": {},
   "source": [
    "## 2.3 Training the model"
   ]
  },
  {
   "cell_type": "code",
   "execution_count": 22,
   "metadata": {},
   "outputs": [],
   "source": [
    "#Tuned model\n",
    "svm_tuned_model = SVC(kernel= 'linear', \n",
    "                                gamma= 0.01,\n",
    "                                degree= 1,\n",
    "                                class_weight= 'balanced',\n",
    "                                C= 0.1,\n",
    "                                random_state=99)\n"
   ]
  },
  {
   "cell_type": "code",
   "execution_count": 23,
   "metadata": {},
   "outputs": [
    {
     "name": "stdout",
     "output_type": "stream",
     "text": [
      "Mean F1 Score: 0.9649722320690064\n",
      "Standard Deviation of F1 Score: 0.0233833174189576\n"
     ]
    }
   ],
   "source": [
    "\n",
    "\n",
    "# Initialize an empty list to store F1 scores from each fold\n",
    "f1_scores = []\n",
    "\n",
    "# Split the data using StratifiedKFold and get the average f1 score\n",
    "skf = StratifiedKFold()\n",
    "mean_f1 = 0\n",
    "for train_ix, test_ix in skf.split(X_train_scaled, y_train):\n",
    "    X_train_1, X_test_1 = X_train_scaled[train_ix], X_train_scaled[test_ix]\n",
    "    y_train_1, y_test_1 = y_train.iloc[train_ix], y_train.iloc[test_ix]\n",
    "\n",
    "    # Create and configure the RandomForestClassifier instance\n",
    "    rf_clf = svm_tuned_model  # You can configure hyperparameters here\n",
    "    rf_clf.fit(X_train_1, y_train_1)\n",
    "    predictions = rf_clf.predict(X_test_1)\n",
    "    \n",
    "    # Calculate the F1 score for this fold and append it to the list\n",
    "    fold_f1 = f1_score(y_test_1, predictions)\n",
    "    f1_scores.append(fold_f1)\n",
    "    \n",
    "# Calculate the mean F1 score\n",
    "mean_f1 = np.mean(f1_scores)\n",
    "\n",
    "# Calculate the standard deviation of F1 scores\n",
    "std_f1 = np.std(f1_scores)\n",
    "\n",
    "print(f'Mean F1 Score: {mean_f1}')\n",
    "print(f'Standard Deviation of F1 Score: {std_f1}')\n"
   ]
  },
  {
   "cell_type": "markdown",
   "metadata": {},
   "source": [
    "*Mean F1 Score (0.965)*: This is the average F1 Score calculated over different folds or iterations of the cross-validation. An F1 Score of 0.965 suggests that, on average, the SVM model has a strong balance between precision and recall. It indicates that the model is effective at correctly classifying positive and negative cases in your data.\n",
    "\n",
    "*Standard Deviation of F1 Score (0.023)*: This measures the variability or spread of the F1 Scores across the cross-validation folds. A low standard deviation (0.023 in this case) implies that the F1 Scores are relatively consistent from one fold to another. In other words, the model's performance is stable and doesn't fluctuate significantly when tested on different subsets of your training data.\n",
    "\n",
    "Overall, these results suggest that the SVM model, with the hyperparameters obtained through randomized search, is performing consistently well. The mean F1 Score of 0.965 indicates a high level of accuracy and robustness in classification, and the low standard deviation suggests that this performance is reliable across different data splits. This is a positive outcome and indicates that the model is well-suited for the task at hand."
   ]
  },
  {
   "cell_type": "markdown",
   "metadata": {},
   "source": [
    "## 2.4 Final SVM model evaluation"
   ]
  },
  {
   "cell_type": "code",
   "execution_count": 26,
   "metadata": {},
   "outputs": [
    {
     "name": "stdout",
     "output_type": "stream",
     "text": [
      "              precision    recall  f1-score   support\n",
      "\n",
      "           0       0.99      0.98      0.98        90\n",
      "           1       0.96      0.98      0.97        53\n",
      "\n",
      "    accuracy                           0.98       143\n",
      "   macro avg       0.98      0.98      0.98       143\n",
      "weighted avg       0.98      0.98      0.98       143\n",
      "\n"
     ]
    },
    {
     "data": {
      "image/png": "[encoded data removed]",
      "text/plain": [
       "<Figure size 432x288 with 2 Axes>"
      ]
     },
     "metadata": {
      "needs_background": "light"
     },
     "output_type": "display_data"
    }
   ],
   "source": [
    "svm_tuned_model.fit(X_train_scaled, y_train)\n",
    "\n",
    "y_pred=svm_tuned_model.predict(X_test_scaled)\n",
    "\n",
    "confusion_matrix_tuned = pd.crosstab(y_test, y_pred, rownames=['Real Values'], colnames=['Predicted'])\n",
    "sns.heatmap(confusion_matrix_tuned, annot=True)\n",
    "\n",
    "from sklearn.metrics import classification_report\n",
    "print(classification_report(y_test, y_pred))"
   ]
  },
  {
   "cell_type": "code",
   "execution_count": 27,
   "metadata": {},
   "outputs": [
    {
     "name": "stdout",
     "output_type": "stream",
     "text": [
      "AUC=0.979454926624738\n"
     ]
    },
    {
     "data": {
      "image/png": "[encoded data removed]",
      "text/plain": [
       "<Figure size 432x432 with 1 Axes>"
      ]
     },
     "metadata": {
      "needs_background": "light"
     },
     "output_type": "display_data"
    }
   ],
   "source": [
    "#ROC curve \n",
    "\n",
    "from sklearn import metrics\n",
    "\n",
    "fpr, tpr, thresholds = metrics.roc_curve(np.array(y_test), y_pred)\n",
    "\n",
    "roc_df =pd.DataFrame({'recall':tpr,  'specificity': 1 - fpr})\n",
    "auc = metrics.roc_auc_score(np.array(y_test), y_pred)\n",
    "\n",
    "ax = roc_df.plot(x='specificity', y='recall', figsize =(6,6), legend = False)\n",
    "ax.set_ylim(0,1)\n",
    "ax.set_xlim(1,0)\n",
    "ax.plot((1,0),(0,1))\n",
    "ax.set_xlabel('Specificity')\n",
    "ax.set_ylabel('Recall')\n",
    "\n",
    "\n",
    "print(\"AUC=\"+str(auc))"
   ]
  },
  {
   "cell_type": "markdown",
   "metadata": {},
   "source": [
    "An AUC value of 0.979 suggests that the Support Vector Machine (SVM) model has a very high discriminatory ability, meaning it's effectively distinguishing between the two classes in your dataset.\n",
    "\n",
    "In general, an AUC of 0.5 indicates random guessing, while an AUC of 1.0 represents a perfect classifier. An AUC of 0.979 is very close to the ideal performance, indicating that your model is making highly accurate predictions and is well-suited for the classification task at hand.\n",
    "\n",
    "Combined with the previously mentioned high F1 Score and low standard deviation, this AUC value further confirms the strong performance of the SVM model on your dataset."
   ]
  },
  {
   "cell_type": "code",
   "execution_count": 25,
   "metadata": {},
   "outputs": [
    {
     "name": "stdout",
     "output_type": "stream",
     "text": [
      "Accuracy: 0.972027972027972\n",
      "Precision: 1.0\n",
      "Sensitivity (Recall): 0.9245283018867925\n",
      "F1 Score: 0.9607843137254902\n"
     ]
    }
   ],
   "source": [
    "# Metrics:\n",
    "\n",
    "accuracy = accuracy_score(y_test, y_pred)\n",
    "print(f'Accuracy: {accuracy}')\n",
    "\n",
    "precision = precision_score(y_test, y_pred)\n",
    "print(f'Precision: {precision}')\n",
    "\n",
    "recall = recall_score(y_test, y_pred)\n",
    "print(f'Sensitivity (Recall): {recall}')\n",
    "\n",
    "f1 = f1_score(y_test, y_pred)\n",
    "print(f'F1 Score: {f1}')"
   ]
  },
  {
   "cell_type": "markdown",
   "metadata": {},
   "source": [
    "It seems that the data can be linearily separeated.\n",
    "\n",
    "These metrics collectively indicate that your model is performing quite well, with a high accuracy, perfect precision, a reasonably high recall, and a good F1 Score."
   ]
  },
  {
   "cell_type": "markdown",
   "metadata": {},
   "source": [
    "# 3. Conclusion:\n",
    "Given that the model is a medical classifier where misclassifying a positive case (1) can have severe consequences, a high recall (sensitivity) is crucial. You want to minimize false negatives because missing a true positive in a medical context can be very harmful.\n",
    "\n",
    "In conclusion, for a medical classifier, it's important to prioritize recall (sensitivity) to minimize the risk of missing true positive cases while keeping precision high to minimize false positives. \n",
    "\n",
    "Comparing the two medical classifier models, the SVM model appears to be better for medical purposes based on the metrics. Here's why:\n",
    "\n",
    "-*Accuracy, Precision, Sensitivity (Recall), and F1 Score:* The SVM model and the RF model have identical values for accuracy, precision, recall, and F1 score. This indicates that both models are equally good in terms of overall performance, precision, and recall.\n",
    "\n",
    "-*AUC (Area Under the ROC Curve):* The AUC represents the ability of a model to distinguish between positive and negative cases. In this context, a higher AUC value is better. The SVM model has an AUC of 0.979, which is higher than the RF model's AUC of 0.96. This suggests that the SVM model has a better ability to differentiate between positive and negative cases, which is particularly important in a medical context. A higher AUC indicates a better trade-off between the true positive rate and the false positive rate.\n",
    "\n",
    "Given the higher AUC of the SVM model, it is the preferred choice for medical purposes. It demonstrates better discrimination between positive and negative cases, which is crucial in medical applications where correctly identifying positive cases and minimizing false positives are of utmost importance."
   ]
  }
 ],
 "metadata": {
  "kernelspec": {
   "display_name": "base",
   "language": "python",
   "name": "python3"
  },
  "language_info": {
   "codemirror_mode": {
    "name": "ipython",
    "version": 3
   },
   "file_extension": ".py",
   "mimetype": "text/x-python",
   "name": "python",
   "nbconvert_exporter": "python",
   "pygments_lexer": "ipython3",
   "version": "3.9.12"
  }
 },
 "nbformat": 4,
 "nbformat_minor": 2
}
